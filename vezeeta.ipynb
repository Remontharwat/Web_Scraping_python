{
 "cells": [
  {
   "cell_type": "code",
   "execution_count": 1,
   "id": "b9528d75",
   "metadata": {},
   "outputs": [],
   "source": [
    "from selenium import webdriver\n",
    "from webdriver_manager.chrome import ChromeDriverManager\n",
    "from selenium.webdriver.common.by import By\n",
    "from selenium.webdriver.common.keys import Keys\n",
    "import numpy as np\n",
    "import time\n",
    "import timeit\n",
    "import pandas as pd\n",
    "import warnings\n",
    "warnings.filterwarnings('ignore')"
   ]
  },
  {
   "cell_type": "code",
   "execution_count": 3,
   "id": "48eb259b",
   "metadata": {},
   "outputs": [],
   "source": [
    "DNameList=list()\n",
    "DLocationList= list()\n",
    "for k in range(1):\n",
    "    browser = webdriver.Chrome('chromedriver.exe')\n",
    "    browser.get(f'https://www.vezeeta.com/en/doctor/pediatrics-and-new-born/dokki-and-mohandessin?page={k}')\n",
    "    DName= browser.find_elements(By.CLASS_NAME,\"DoctorCardSubComponentsstyle__Text-sc-1vq3h7c-14.DoctorCardSubComponentsstyle__DoctorNameText-sc-1vq3h7c-15.dZnRSf.Wpycp\")\n",
    "    DLocation= browser.find_elements(By.CLASS_NAME,\"DoctorCardstyle__Text-sc-uptab2-4.blwPZf\")\n",
    "    for i in DName:\n",
    "        DNameList.append(i.text)\n",
    "    for i in DLocation:\n",
    "        DLocationList.append(i.text)\n",
    "    time.sleep(3)\n",
    "    browser.quit()"
   ]
  },
  {
   "cell_type": "code",
   "execution_count": 5,
   "id": "722123e0",
   "metadata": {},
   "outputs": [],
   "source": [
    "df= pd.DataFrame(list(zip(DNameList,DLocationList)),columns=['Name','Location'])\n",
    "df.to_csv('pediatrics_dokky&mohndessin.csv')\n",
    "df.to_excel('pediatrics_dokky&mohndessin.xlsx')"
   ]
  },
  {
   "cell_type": "code",
   "execution_count": 6,
   "id": "5bd3a3b7",
   "metadata": {},
   "outputs": [
    {
     "data": {
      "text/html": [
       "<div>\n",
       "<style scoped>\n",
       "    .dataframe tbody tr th:only-of-type {\n",
       "        vertical-align: middle;\n",
       "    }\n",
       "\n",
       "    .dataframe tbody tr th {\n",
       "        vertical-align: top;\n",
       "    }\n",
       "\n",
       "    .dataframe thead th {\n",
       "        text-align: right;\n",
       "    }\n",
       "</style>\n",
       "<table border=\"1\" class=\"dataframe\">\n",
       "  <thead>\n",
       "    <tr style=\"text-align: right;\">\n",
       "      <th></th>\n",
       "      <th>Name</th>\n",
       "      <th>Location</th>\n",
       "    </tr>\n",
       "  </thead>\n",
       "  <tbody>\n",
       "    <tr>\n",
       "      <th>0</th>\n",
       "      <td>Yomna Ahmed Hosni</td>\n",
       "      <td>El-Dokki : micheel bakhoum</td>\n",
       "    </tr>\n",
       "    <tr>\n",
       "      <th>1</th>\n",
       "      <td>Maged El Wakeel</td>\n",
       "      <td>El-Dokki : El-Tahrir street</td>\n",
       "    </tr>\n",
       "    <tr>\n",
       "      <th>2</th>\n",
       "      <td>Ossama Salah Eldin</td>\n",
       "      <td>El-Dokki : Mosadak street</td>\n",
       "    </tr>\n",
       "    <tr>\n",
       "      <th>3</th>\n",
       "      <td>ashraf sobhy</td>\n",
       "      <td>El-Mohandessin : white nile</td>\n",
       "    </tr>\n",
       "    <tr>\n",
       "      <th>4</th>\n",
       "      <td>Fatma Mohamed Atia</td>\n",
       "      <td>El-Dokki : Teba square</td>\n",
       "    </tr>\n",
       "    <tr>\n",
       "      <th>5</th>\n",
       "      <td>Nesreen Mohamed Sobhy</td>\n",
       "      <td>El-Dokki : Teba square</td>\n",
       "    </tr>\n",
       "    <tr>\n",
       "      <th>6</th>\n",
       "      <td>Yomna Abdel Moneim Abdel Rahim</td>\n",
       "      <td>El-Dokki : Teba square</td>\n",
       "    </tr>\n",
       "    <tr>\n",
       "      <th>7</th>\n",
       "      <td>dina Al khatib</td>\n",
       "      <td>El-Dokki : Teba square</td>\n",
       "    </tr>\n",
       "    <tr>\n",
       "      <th>8</th>\n",
       "      <td>Aya Salah El din</td>\n",
       "      <td>El-Dokki : Teba square</td>\n",
       "    </tr>\n",
       "    <tr>\n",
       "      <th>9</th>\n",
       "      <td>Nermine Abdelrahman</td>\n",
       "      <td>El-Dokki : Teba square</td>\n",
       "    </tr>\n",
       "  </tbody>\n",
       "</table>\n",
       "</div>"
      ],
      "text/plain": [
       "                             Name                     Location\n",
       "0               Yomna Ahmed Hosni   El-Dokki : micheel bakhoum\n",
       "1                 Maged El Wakeel  El-Dokki : El-Tahrir street\n",
       "2              Ossama Salah Eldin    El-Dokki : Mosadak street\n",
       "3                    ashraf sobhy  El-Mohandessin : white nile\n",
       "4              Fatma Mohamed Atia       El-Dokki : Teba square\n",
       "5           Nesreen Mohamed Sobhy       El-Dokki : Teba square\n",
       "6  Yomna Abdel Moneim Abdel Rahim       El-Dokki : Teba square\n",
       "7                  dina Al khatib       El-Dokki : Teba square\n",
       "8                Aya Salah El din       El-Dokki : Teba square\n",
       "9             Nermine Abdelrahman       El-Dokki : Teba square"
      ]
     },
     "execution_count": 6,
     "metadata": {},
     "output_type": "execute_result"
    }
   ],
   "source": [
    "df"
   ]
  },
  {
   "cell_type": "code",
   "execution_count": null,
   "id": "71ba19ca",
   "metadata": {},
   "outputs": [],
   "source": []
  }
 ],
 "metadata": {
  "kernelspec": {
   "display_name": "Python 3 (ipykernel)",
   "language": "python",
   "name": "python3"
  },
  "language_info": {
   "codemirror_mode": {
    "name": "ipython",
    "version": 3
   },
   "file_extension": ".py",
   "mimetype": "text/x-python",
   "name": "python",
   "nbconvert_exporter": "python",
   "pygments_lexer": "ipython3",
   "version": "3.9.12"
  }
 },
 "nbformat": 4,
 "nbformat_minor": 5
}
